{
 "cells": [
  {
   "cell_type": "code",
   "execution_count": 1,
   "metadata": {},
   "outputs": [],
   "source": [
    "import numpy as np\n",
    "import pandas as pd\n",
    "from sklearn.preprocessing import LabelEncoder, StandardScaler\n",
    "from xgboost import XGBRegressor\n",
    "import joblib"
   ]
  },
  {
   "cell_type": "code",
   "execution_count": 2,
   "metadata": {},
   "outputs": [],
   "source": [
    "df = pd.read_csv('data_model.csv')\n",
    "df = df[['Carrosserie', 'masse_ordma_min', 'masse_ordma_max', 'co2']]"
   ]
  },
  {
   "cell_type": "code",
   "execution_count": 3,
   "metadata": {},
   "outputs": [
    {
     "data": {
      "text/plain": [
       "Carrosserie\n",
       "6     46107\n",
       "0      4411\n",
       "1      1226\n",
       "10     1080\n",
       "5       875\n",
       "2       552\n",
       "9       319\n",
       "3       250\n",
       "7       145\n",
       "8        59\n",
       "4         4\n",
       "Name: count, dtype: int64"
      ]
     },
     "execution_count": 3,
     "metadata": {},
     "output_type": "execute_result"
    }
   ],
   "source": [
    "le = LabelEncoder()\n",
    "df['Carrosserie'] = le.fit_transform(df['Carrosserie'])\n",
    "df['Carrosserie'].value_counts()"
   ]
  },
  {
   "cell_type": "code",
   "execution_count": 4,
   "metadata": {},
   "outputs": [
    {
     "data": {
      "text/plain": [
       "array(['MINIBUS'], dtype=object)"
      ]
     },
     "execution_count": 4,
     "metadata": {},
     "output_type": "execute_result"
    }
   ],
   "source": [
    "# Get the original value of 6\n",
    "original_value = le.inverse_transform([6])#[0]\n",
    "original_value"
   ]
  },
  {
   "cell_type": "code",
   "execution_count": 5,
   "metadata": {},
   "outputs": [
    {
     "data": {
      "text/plain": [
       "array([ 0,  1,  5,  2, 10,  3,  7,  9,  8,  6,  4])"
      ]
     },
     "execution_count": 5,
     "metadata": {},
     "output_type": "execute_result"
    }
   ],
   "source": [
    "df['Carrosserie'].unique()"
   ]
  },
  {
   "cell_type": "code",
   "execution_count": 6,
   "metadata": {},
   "outputs": [
    {
     "data": {
      "text/plain": [
       "array(['BERLINE', 'BREAK', 'COUPE', 'CABRIOLET', 'TS TERRAINS/CHEMINS',\n",
       "       'COMBISPACE', 'MINISPACE', 'MONOSPACE COMPACT', 'MONOSPACE',\n",
       "       'MINIBUS', 'COMBISPCACE'], dtype=object)"
      ]
     },
     "execution_count": 6,
     "metadata": {},
     "output_type": "execute_result"
    }
   ],
   "source": [
    "le.inverse_transform(df['Carrosserie'].unique())"
   ]
  },
  {
   "cell_type": "code",
   "execution_count": 7,
   "metadata": {},
   "outputs": [],
   "source": [
    "X = df.drop(['co2'] ,axis =1)\n",
    "y = df['co2']"
   ]
  },
  {
   "cell_type": "code",
   "execution_count": 8,
   "metadata": {},
   "outputs": [
    {
     "name": "stdout",
     "output_type": "stream",
     "text": [
      "       Carrosserie  masse_ordma_min  masse_ordma_max\n",
      "27088            6         0.178884        -0.368863\n",
      "46308            6        -0.252470         1.117833\n",
      "17580            6        -0.092835        -0.628445\n"
     ]
    }
   ],
   "source": [
    "# Extract the column as a numpy array\n",
    "column1 = X['masse_ordma_min'].values.reshape(-1, 1)\n",
    "column2 = X['masse_ordma_max'].values.reshape(-1, 1)\n",
    "\n",
    "\n",
    "scaler = StandardScaler()\n",
    "\n",
    "X['masse_ordma_min'] = scaler.fit_transform(column1)\n",
    "X['masse_ordma_max'] = scaler.fit_transform(column2)\n",
    "\n",
    "print(X.sample(3))"
   ]
  },
  {
   "cell_type": "code",
   "execution_count": 9,
   "metadata": {},
   "outputs": [
    {
     "name": "stdout",
     "output_type": "stream",
     "text": [
      "R2 score: 0.6411\n"
     ]
    }
   ],
   "source": [
    "# Create an instance of the XGBRegressor class with the specified hyperparameters\n",
    "top_model = XGBRegressor(learning_rate=0.1, max_depth=5, n_estimators=50)\n",
    "\n",
    "# Train the top_model on the training data and labels\n",
    "top_model.fit(X, y)\n",
    "\n",
    "print(\"R2 score: {:.4f}\".format(top_model.score(X, y)))"
   ]
  },
  {
   "cell_type": "code",
   "execution_count": 10,
   "metadata": {},
   "outputs": [
    {
     "data": {
      "text/plain": [
       "['model.pkl']"
      ]
     },
     "execution_count": 10,
     "metadata": {},
     "output_type": "execute_result"
    }
   ],
   "source": [
    "# Create a dictionary containing all the objects\n",
    "objects = {\n",
    "    'X': X,\n",
    "    'y': y,\n",
    "    'Encoder': le,\n",
    "    'Scaler': scaler,\n",
    "    'Model': top_model\n",
    "}\n",
    "\n",
    "# Save the dictionary to a .pkl file\n",
    "joblib.dump(objects, 'model.pkl')"
   ]
  },
  {
   "cell_type": "code",
   "execution_count": 11,
   "metadata": {},
   "outputs": [],
   "source": [
    "# Load the dictionary from the .pkl file\n",
    "objects = joblib.load('model.pkl')\n",
    "\n",
    "# Access the individual objects\n",
    "X = objects['X']\n",
    "y = objects['y']\n",
    "le = objects['Encoder']\n",
    "scaler = objects['Scaler']\n",
    "top_model = objects['Model']"
   ]
  },
  {
   "cell_type": "code",
   "execution_count": null,
   "metadata": {},
   "outputs": [],
   "source": [
    "################################  TESTS  ################################"
   ]
  },
  {
   "cell_type": "code",
   "execution_count": 12,
   "metadata": {},
   "outputs": [
    {
     "name": "stdout",
     "output_type": "stream",
     "text": [
      "  Carrosserie  masse_ordma_min  masse_ordma_max\n",
      "0     MINIBUS           2076.0           2185.0\n"
     ]
    }
   ],
   "source": [
    "# Create a new DataFrame with feature names\n",
    "# ['MINIBUS', 2186.0, 2185.0]  >>>    203.0\n",
    "new_data = pd.DataFrame([['MINIBUS', 2076.0, 2185.0]], columns=['Carrosserie', 'masse_ordma_min', 'masse_ordma_max'])\n",
    "\n",
    "# Print the new DataFrame\n",
    "print(new_data)"
   ]
  },
  {
   "cell_type": "code",
   "execution_count": 13,
   "metadata": {},
   "outputs": [
    {
     "name": "stdout",
     "output_type": "stream",
     "text": [
      "   Carrosserie  masse_ordma_min  masse_ordma_max\n",
      "0            6        -0.626085        -0.368863\n"
     ]
    }
   ],
   "source": [
    "# Encode the Carrosserie column\n",
    "new_data['Carrosserie'] = le.transform(new_data['Carrosserie'])\n",
    "\n",
    "# Scale the masse_ordma_min column\n",
    "column = new_data['masse_ordma_min'].values.reshape(-1, 1)\n",
    "scaled_column = scaler.transform(column)\n",
    "new_data['masse_ordma_min'] = scaled_column\n",
    "\n",
    "# Scale the masse_ordma_max column\n",
    "column2 = new_data['masse_ordma_max'].values.reshape(-1, 1)\n",
    "scaled_column2 = scaler.transform(column2)\n",
    "new_data['masse_ordma_max'] = scaled_column2\n",
    "\n",
    "print(new_data.head())"
   ]
  },
  {
   "cell_type": "code",
   "execution_count": 14,
   "metadata": {},
   "outputs": [
    {
     "name": "stdout",
     "output_type": "stream",
     "text": [
      "[240.91302]\n"
     ]
    }
   ],
   "source": [
    "predictions = top_model.predict(new_data)\n",
    "\n",
    "# Print the predictions\n",
    "print(predictions)"
   ]
  }
 ],
 "metadata": {
  "kernelspec": {
   "display_name": ".venv",
   "language": "python",
   "name": "python3"
  },
  "language_info": {
   "codemirror_mode": {
    "name": "ipython",
    "version": 3
   },
   "file_extension": ".py",
   "mimetype": "text/x-python",
   "name": "python",
   "nbconvert_exporter": "python",
   "pygments_lexer": "ipython3",
   "version": "3.10.12"
  },
  "orig_nbformat": 4
 },
 "nbformat": 4,
 "nbformat_minor": 2
}
