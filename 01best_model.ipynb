{
 "cells": [
  {
   "cell_type": "code",
   "execution_count": 1,
   "metadata": {},
   "outputs": [
    {
     "data": {
      "text/plain": [
       "Index(['Carrosserie', 'co2', 'masse_ordma_min', 'masse_ordma_max'], dtype='object')"
      ]
     },
     "execution_count": 1,
     "metadata": {},
     "output_type": "execute_result"
    }
   ],
   "source": [
    "import numpy as np\n",
    "import pandas as pd\n",
    "\n",
    "from sklearn.preprocessing import LabelEncoder, StandardScaler\n",
    "from sklearn.model_selection import GridSearchCV\n",
    "from sklearn.metrics import r2_score, mean_absolute_error, mean_squared_error\n",
    "from sklearn.dummy import DummyRegressor\n",
    "from sklearn.linear_model import LinearRegression, SGDRegressor\n",
    "from sklearn.ensemble import RandomForestRegressor, GradientBoostingRegressor\n",
    "from xgboost import XGBRegressor\n",
    "\n",
    "\n",
    "df = pd.read_csv(\"data_model.csv\")\n",
    "df = df.drop(columns=df.columns.difference( ['Carrosserie', 'masse_ordma_min', 'masse_ordma_max', 'co2'] ))\n",
    "df.columns"
   ]
  },
  {
   "cell_type": "code",
   "execution_count": 2,
   "metadata": {},
   "outputs": [
    {
     "data": {
      "text/plain": [
       "array([ 0,  1,  5,  2, 10,  3,  7,  9,  8,  6,  4])"
      ]
     },
     "execution_count": 2,
     "metadata": {},
     "output_type": "execute_result"
    }
   ],
   "source": [
    "le = LabelEncoder()\n",
    "df['Carrosserie'] = le.fit_transform(df['Carrosserie'])\n",
    "df['Carrosserie'].unique()"
   ]
  },
  {
   "cell_type": "code",
   "execution_count": 3,
   "metadata": {},
   "outputs": [],
   "source": [
    "scaler = StandardScaler()\n",
    "\n",
    "df[['masse_ordma_min', 'masse_ordma_max']] = scaler.fit_transform(df[['masse_ordma_min', 'masse_ordma_max']])"
   ]
  },
  {
   "cell_type": "code",
   "execution_count": 4,
   "metadata": {},
   "outputs": [],
   "source": [
    "X = df[['Carrosserie', 'masse_ordma_min', 'masse_ordma_max']]\n",
    "y = df['co2']\n",
    "\n",
    "\n",
    "models = [\n",
    "    DummyRegressor(),  # A model that always predicts the mean of the target variable\n",
    "    LinearRegression(),  # A simple linear regression model\n",
    "    SGDRegressor(),  # A linear model with stochastic gradient descent optimization\n",
    "    RandomForestRegressor(),  # A random forest regression model\n",
    "    GradientBoostingRegressor(),  # A gradient boosting regression model\n",
    "    XGBRegressor()  # An optimized gradient boosting regression model\n",
    "]\n",
    "\n",
    "\n",
    "params = [\n",
    "    {'strategy': ['mean'], 'constant': [0]},  # DummyRegressor hyperparameters\n",
    "    {'fit_intercept': [True, False]},  # LinearRegression hyperparameters\n",
    "    {'alpha': [0.01, 0.001], 'penalty': ['l1', 'l2']},  # SGDRegressor hyperparameters\n",
    "    {'n_estimators': [150, 250], 'max_depth': [None, 2], 'min_samples_split': [7, 9]},  # RandomForestRegressor hyperparameters\n",
    "    {'n_estimators': [50, 100], 'learning_rate': [0.1, 0.01], 'max_depth': [3, 5]},  # GradientBoostingRegressor hyperparameters\n",
    "    {'learning_rate': [0.1, 0.01], 'max_depth': [5, 7], 'n_estimators': [50, 100]}  # XGBRegressor hyperparameters\n",
    "]"
   ]
  },
  {
   "cell_type": "code",
   "execution_count": 5,
   "metadata": {},
   "outputs": [
    {
     "data": {
      "text/html": [
       "<div>\n",
       "<style scoped>\n",
       "    .dataframe tbody tr th:only-of-type {\n",
       "        vertical-align: middle;\n",
       "    }\n",
       "\n",
       "    .dataframe tbody tr th {\n",
       "        vertical-align: top;\n",
       "    }\n",
       "\n",
       "    .dataframe thead th {\n",
       "        text-align: right;\n",
       "    }\n",
       "</style>\n",
       "<table border=\"1\" class=\"dataframe\">\n",
       "  <thead>\n",
       "    <tr style=\"text-align: right;\">\n",
       "      <th></th>\n",
       "      <th>Carrosserie</th>\n",
       "      <th>masse_ordma_min</th>\n",
       "      <th>masse_ordma_max</th>\n",
       "    </tr>\n",
       "  </thead>\n",
       "  <tbody>\n",
       "    <tr>\n",
       "      <th>20158</th>\n",
       "      <td>6</td>\n",
       "      <td>0.093972</td>\n",
       "      <td>-0.368863</td>\n",
       "    </tr>\n",
       "    <tr>\n",
       "      <th>26457</th>\n",
       "      <td>6</td>\n",
       "      <td>1.642771</td>\n",
       "      <td>0.610469</td>\n",
       "    </tr>\n",
       "    <tr>\n",
       "      <th>37458</th>\n",
       "      <td>6</td>\n",
       "      <td>0.284175</td>\n",
       "      <td>0.032309</td>\n",
       "    </tr>\n",
       "    <tr>\n",
       "      <th>37087</th>\n",
       "      <td>6</td>\n",
       "      <td>-0.429088</td>\n",
       "      <td>-0.628445</td>\n",
       "    </tr>\n",
       "    <tr>\n",
       "      <th>45791</th>\n",
       "      <td>6</td>\n",
       "      <td>-0.252470</td>\n",
       "      <td>1.084795</td>\n",
       "    </tr>\n",
       "    <tr>\n",
       "      <th>1126</th>\n",
       "      <td>5</td>\n",
       "      <td>-0.446070</td>\n",
       "      <td>-0.774755</td>\n",
       "    </tr>\n",
       "  </tbody>\n",
       "</table>\n",
       "</div>"
      ],
      "text/plain": [
       "       Carrosserie  masse_ordma_min  masse_ordma_max\n",
       "20158            6         0.093972        -0.368863\n",
       "26457            6         1.642771         0.610469\n",
       "37458            6         0.284175         0.032309\n",
       "37087            6        -0.429088        -0.628445\n",
       "45791            6        -0.252470         1.084795\n",
       "1126             5        -0.446070        -0.774755"
      ]
     },
     "execution_count": 5,
     "metadata": {},
     "output_type": "execute_result"
    }
   ],
   "source": [
    "X.sample(6)"
   ]
  },
  {
   "cell_type": "code",
   "execution_count": 6,
   "metadata": {},
   "outputs": [
    {
     "name": "stdout",
     "output_type": "stream",
     "text": [
      "--------------------------------------------------\n",
      "Model 1: DummyRegressor\n",
      "Best parameters: {'constant': 0, 'strategy': 'mean'}\n",
      "Best score: 1239.004282728954\n",
      "RMSE: 34.01397602132309\n",
      "R2 score: 0.0\n",
      "--------------------------------------------------\n",
      "\n",
      "--------------------------------------------------\n",
      "Model 2: LinearRegression\n",
      "Best parameters: {'fit_intercept': True}\n",
      "Best score: 682.418832385313\n",
      "RMSE: 25.3132976528585\n",
      "R2 score: 0.44616212864330007\n",
      "--------------------------------------------------\n",
      "\n",
      "--------------------------------------------------\n",
      "Model 3: SGDRegressor\n",
      "Best parameters: {'alpha': 0.01, 'penalty': 'l2'}\n",
      "Best score: 675.1066053489965\n",
      "RMSE: 25.394123339179064\n",
      "R2 score: 0.4426196591307764\n",
      "--------------------------------------------------\n",
      "\n",
      "--------------------------------------------------\n",
      "Model 4: RandomForestRegressor\n",
      "Best parameters: {'max_depth': None, 'min_samples_split': 9, 'n_estimators': 250}\n",
      "Best score: 617.5528558762076\n",
      "RMSE: 17.887651173635533\n",
      "R2 score: 0.7234384300847414\n",
      "--------------------------------------------------\n",
      "\n",
      "--------------------------------------------------\n",
      "Model 5: GradientBoostingRegressor\n",
      "Best parameters: {'learning_rate': 0.1, 'max_depth': 5, 'n_estimators': 50}\n",
      "Best score: 556.4151753916137\n",
      "RMSE: 20.32906947135054\n",
      "R2 score: 0.6427928053694424\n",
      "--------------------------------------------------\n",
      "\n",
      "--------------------------------------------------\n",
      "Model 6: XGBRegressor\n",
      "Best parameters: {'learning_rate': 0.1, 'max_depth': 5, 'n_estimators': 50}\n",
      "Best score: 554.3719020033352\n",
      "RMSE: 20.378078252788395\n",
      "R2 score: 0.641068438083143\n",
      "--------------------------------------------------\n",
      "\n"
     ]
    }
   ],
   "source": [
    "for i, (model_grid, param_grid) in enumerate(zip(models, params)):\n",
    "    grid_search = GridSearchCV(model_grid, param_grid, cv=5, scoring='neg_mean_squared_error')\n",
    "    grid_search.fit(X, y)\n",
    "    print(\"--------------------------------------------------\")\n",
    "    print(f\"Model {i+1}: {type(model_grid).__name__}\")\n",
    "    print(f\"Best parameters: {grid_search.best_params_}\")\n",
    "    print(f\"Best score: {-grid_search.best_score_}\")\n",
    "    print(f\"RMSE: {np.sqrt(mean_squared_error(y, grid_search.predict(X)))}\")\n",
    "    print(f\"R2 score: {grid_search.best_estimator_.score(X, y)}\")\n",
    "    print(\"--------------------------------------------------\\n\")"
   ]
  },
  {
   "cell_type": "code",
   "execution_count": 7,
   "metadata": {},
   "outputs": [
    {
     "name": "stdout",
     "output_type": "stream",
     "text": [
      "The best model is XGBRegressor\n",
      "Hyperparameters used by the best model:\n",
      "learning_rate: 0.1\n",
      "max_depth: 5\n",
      "n_estimators: 50\n"
     ]
    }
   ],
   "source": [
    "best_model_name = type(grid_search.best_estimator_).__name__\n",
    "print(f\"The best model is {best_model_name}\")\n",
    "\n",
    "best_params = grid_search.best_params_\n",
    "print(\"Hyperparameters used by the best model:\")\n",
    "for param, value in best_params.items():\n",
    "    print(f\"{param}: {value}\")"
   ]
  },
  {
   "cell_type": "markdown",
   "metadata": {},
   "source": [
    "Based on the results of the grid search, the `XGBRegressor` model performed the best with a root mean squared error (RMSE) of 20.38 and an R2 score of 0.64. The `RandomForestRegressor` model also performed well with an RMSE of 17.88 and an R2 score of 0.72.\n",
    "\n",
    "The `XGBRegressor` model is an optimized gradient boosting regression model that uses a combination of decision trees and gradient boosting to make predictions. It performed well in this case because it was able to capture the non-linear relationships between the input features and the target variable.\n",
    "\n",
    "The `RandomForestRegressor` model is a random forest regression model that uses an ensemble of decision trees to make predictions. It performed well in this case because it was able to capture the complex interactions between the input features and the target variable.\n",
    "\n",
    "Overall, both models performed well and could be used for making predictions on new data."
   ]
  }
 ],
 "metadata": {
  "kernelspec": {
   "display_name": ".venv",
   "language": "python",
   "name": "python3"
  },
  "language_info": {
   "codemirror_mode": {
    "name": "ipython",
    "version": 3
   },
   "file_extension": ".py",
   "mimetype": "text/x-python",
   "name": "python",
   "nbconvert_exporter": "python",
   "pygments_lexer": "ipython3",
   "version": "3.10.12"
  },
  "orig_nbformat": 4
 },
 "nbformat": 4,
 "nbformat_minor": 2
}
